{
  "nbformat": 4,
  "nbformat_minor": 0,
  "metadata": {
    "colab": {
      "provenance": [],
      "include_colab_link": true
    },
    "kernelspec": {
      "name": "python3",
      "display_name": "Python 3"
    },
    "language_info": {
      "name": "python"
    }
  },
  "cells": [
    {
      "cell_type": "markdown",
      "metadata": {
        "id": "view-in-github",
        "colab_type": "text"
      },
      "source": [
        "<a href=\"https://colab.research.google.com/github/EmmaMills1002/DS2002Project1/blob/main/JSONtoCSV.ipynb\" target=\"_parent\"><img src=\"https://colab.research.google.com/assets/colab-badge.svg\" alt=\"Open In Colab\"/></a>"
      ]
    },
    {
      "cell_type": "code",
      "source": [
        "!mkdir -p ~/.kaggle\n",
        "!mv kaggle.json ~/.kaggle/\n",
        "!chmod 600 ~/.kaggle/kaggle.json"
      ],
      "metadata": {
        "colab": {
          "base_uri": "https://localhost:8080/"
        },
        "id": "hmlq51Gdyd0O",
        "outputId": "5b85d11c-83ff-4bf5-e6ae-41770941eaf2"
      },
      "execution_count": null,
      "outputs": [
        {
          "output_type": "stream",
          "name": "stdout",
          "text": [
            "mv: cannot stat 'kaggle.json': No such file or directory\n",
            "chmod: cannot access '/root/.kaggle/kaggle.json': No such file or directory\n"
          ]
        }
      ]
    },
    {
      "cell_type": "code",
      "source": [
        "!pip install kaggle"
      ],
      "metadata": {
        "colab": {
          "base_uri": "https://localhost:8080/"
        },
        "id": "0QoKjT1Xyfx1",
        "outputId": "b67d3dc6-2d21-4c77-c7ff-d0bdbb2f9e09"
      },
      "execution_count": null,
      "outputs": [
        {
          "output_type": "stream",
          "name": "stdout",
          "text": [
            "Requirement already satisfied: kaggle in /usr/local/lib/python3.10/dist-packages (1.6.17)\n",
            "Requirement already satisfied: six>=1.10 in /usr/local/lib/python3.10/dist-packages (from kaggle) (1.16.0)\n",
            "Requirement already satisfied: certifi>=2023.7.22 in /usr/local/lib/python3.10/dist-packages (from kaggle) (2024.8.30)\n",
            "Requirement already satisfied: python-dateutil in /usr/local/lib/python3.10/dist-packages (from kaggle) (2.8.2)\n",
            "Requirement already satisfied: requests in /usr/local/lib/python3.10/dist-packages (from kaggle) (2.32.3)\n",
            "Requirement already satisfied: tqdm in /usr/local/lib/python3.10/dist-packages (from kaggle) (4.66.5)\n",
            "Requirement already satisfied: python-slugify in /usr/local/lib/python3.10/dist-packages (from kaggle) (8.0.4)\n",
            "Requirement already satisfied: urllib3 in /usr/local/lib/python3.10/dist-packages (from kaggle) (2.2.3)\n",
            "Requirement already satisfied: bleach in /usr/local/lib/python3.10/dist-packages (from kaggle) (6.1.0)\n",
            "Requirement already satisfied: webencodings in /usr/local/lib/python3.10/dist-packages (from bleach->kaggle) (0.5.1)\n",
            "Requirement already satisfied: text-unidecode>=1.3 in /usr/local/lib/python3.10/dist-packages (from python-slugify->kaggle) (1.3)\n",
            "Requirement already satisfied: charset-normalizer<4,>=2 in /usr/local/lib/python3.10/dist-packages (from requests->kaggle) (3.4.0)\n",
            "Requirement already satisfied: idna<4,>=2.5 in /usr/local/lib/python3.10/dist-packages (from requests->kaggle) (3.10)\n"
          ]
        }
      ]
    },
    {
      "cell_type": "code",
      "source": [
        "# Download the dataset\n",
        "!kaggle datasets download -d eswarchandt/amazon-music-reviews"
      ],
      "metadata": {
        "colab": {
          "base_uri": "https://localhost:8080/"
        },
        "id": "DfRsCQpvyin3",
        "outputId": "2a5eb180-1518-4ba8-c217-066dd3ccd1e6"
      },
      "execution_count": null,
      "outputs": [
        {
          "output_type": "stream",
          "name": "stdout",
          "text": [
            "Dataset URL: https://www.kaggle.com/datasets/eswarchandt/amazon-music-reviews\n",
            "License(s): CC0-1.0\n",
            "Downloading amazon-music-reviews.zip to /content\n",
            "  0% 0.00/4.69M [00:00<?, ?B/s]\n",
            "100% 4.69M/4.69M [00:00<00:00, 53.7MB/s]\n"
          ]
        }
      ]
    },
    {
      "cell_type": "code",
      "source": [
        "# Unzip the downloaded dataset\n",
        "!unzip amazon-music-reviews.zip"
      ],
      "metadata": {
        "colab": {
          "base_uri": "https://localhost:8080/"
        },
        "id": "B-IO--UpymGp",
        "outputId": "7d7cf5d6-87c9-4268-ffa7-a19031f87cc4"
      },
      "execution_count": null,
      "outputs": [
        {
          "output_type": "stream",
          "name": "stdout",
          "text": [
            "Archive:  amazon-music-reviews.zip\n",
            "  inflating: Musical_Instruments_5.json  \n",
            "  inflating: Musical_instruments_reviews.csv  \n"
          ]
        }
      ]
    },
    {
      "cell_type": "code",
      "source": [
        "import pandas as pd\n",
        "import json\n",
        "\n",
        "# Load the JSON file into a DataFrame\n",
        "file_path = 'Musical_Instruments_5.json'\n",
        "\n",
        "with open(file_path, 'r') as f:\n",
        "    data = [json.loads(line) for line in f]\n",
        "\n",
        "df = pd.DataFrame(data)\n",
        "\n",
        "# Show the first few rows of the data\n",
        "print(df.head())"
      ],
      "metadata": {
        "colab": {
          "base_uri": "https://localhost:8080/"
        },
        "id": "-_A6h7HAyodp",
        "outputId": "116b4d00-5cf2-4c1f-dd6d-13c591dc1ad9"
      },
      "execution_count": null,
      "outputs": [
        {
          "output_type": "stream",
          "name": "stdout",
          "text": [
            "       reviewerID        asin  \\\n",
            "0  A2IBPI20UZIR0U  1384719342   \n",
            "1  A14VAT5EAX3D9S  1384719342   \n",
            "2  A195EZSQDW3E21  1384719342   \n",
            "3  A2C00NNG1ZQQG2  1384719342   \n",
            "4   A94QU4C90B1AX  1384719342   \n",
            "\n",
            "                                       reviewerName   helpful  \\\n",
            "0  cassandra tu \"Yeah, well, that's just like, u...    [0, 0]   \n",
            "1                                              Jake  [13, 14]   \n",
            "2                     Rick Bennette \"Rick Bennette\"    [1, 1]   \n",
            "3                         RustyBill \"Sunday Rocker\"    [0, 0]   \n",
            "4                                     SEAN MASLANKA    [0, 0]   \n",
            "\n",
            "                                          reviewText  overall  \\\n",
            "0  Not much to write about here, but it does exac...      5.0   \n",
            "1  The product does exactly as it should and is q...      5.0   \n",
            "2  The primary job of this device is to block the...      5.0   \n",
            "3  Nice windscreen protects my MXL mic and preven...      5.0   \n",
            "4  This pop filter is great. It looks and perform...      5.0   \n",
            "\n",
            "                                 summary  unixReviewTime   reviewTime  \n",
            "0                                   good      1393545600  02 28, 2014  \n",
            "1                                   Jake      1363392000  03 16, 2013  \n",
            "2                   It Does The Job Well      1377648000  08 28, 2013  \n",
            "3          GOOD WINDSCREEN FOR THE MONEY      1392336000  02 14, 2014  \n",
            "4  No more pops when I record my vocals.      1392940800  02 21, 2014  \n"
          ]
        }
      ]
    },
    {
      "cell_type": "code",
      "source": [
        "# Convert to CSV\n",
        "df.to_csv('musical_instruments_reviews.csv', index=False)"
      ],
      "metadata": {
        "id": "lWyn1KmJyr3P"
      },
      "execution_count": null,
      "outputs": []
    },
    {
      "cell_type": "code",
      "source": [
        "import pandas as pd\n",
        "import json\n",
        "from sqlalchemy import create_engine\n",
        "\n",
        "# Load the JSON file into a DataFrame\n",
        "file_path = 'Musical_Instruments_5.json'\n",
        "\n",
        "with open(file_path, 'r') as f:\n",
        "    data = [json.loads(line) for line in f]\n",
        "\n",
        "df = pd.DataFrame(data)\n",
        "\n",
        "# Convert the \"helpful\" column to strings before storing in SQLite\n",
        "# SQLite doesn't natively support list data types\n",
        "df['helpful'] = df['helpful'].astype(str)\n",
        "\n",
        "# Create SQLite engine\n",
        "engine = create_engine('sqlite:///musical_instruments_reviews.db')\n",
        "\n",
        "# Store DataFrame in SQL database\n",
        "df.to_sql('reviews', con=engine, if_exists='replace', index=False)\n",
        "\n",
        "print(\"Data saved to SQLite database.\")"
      ],
      "metadata": {
        "colab": {
          "base_uri": "https://localhost:8080/"
        },
        "id": "ql0bSpDeyu35",
        "outputId": "54ba9202-deed-4763-b66a-968cd819d17a"
      },
      "execution_count": null,
      "outputs": [
        {
          "output_type": "stream",
          "name": "stdout",
          "text": [
            "Data saved to SQLite database.\n"
          ]
        }
      ]
    },
    {
      "cell_type": "code",
      "source": [
        "# Data summary\n",
        "num_records = len(df)\n",
        "num_columns = len(df.columns)\n",
        "\n",
        "print(f\"Number of records: {num_records}\")\n",
        "print(f\"Number of columns: {num_columns}\")"
      ],
      "metadata": {
        "colab": {
          "base_uri": "https://localhost:8080/"
        },
        "id": "7IEnp_ULy3mg",
        "outputId": "a74e4c4a-ead7-4ae8-b6f4-753d06837058"
      },
      "execution_count": null,
      "outputs": [
        {
          "output_type": "stream",
          "name": "stdout",
          "text": [
            "Number of records: 10261\n",
            "Number of columns: 9\n"
          ]
        }
      ]
    }
  ]
}